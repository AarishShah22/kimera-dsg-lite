{
 "cells": [
  {
   "cell_type": "code",
   "execution_count": 31,
   "id": "ff9fefdb",
   "metadata": {},
   "outputs": [],
   "source": [
    "def pluralize(noun):\n",
    "    if noun.endswith('y'):\n",
    "        if noun[-2] not in 'aeiou':\n",
    "            return noun[:-1] + 'ies'\n",
    "    elif noun[-1] in 'sx' or noun[-2:] in ['sh', 'ch']:\n",
    "        return noun + 'es'\n",
    "    elif noun.endswith('man'):\n",
    "        return noun[:-3] + 'men'\n",
    "    else:\n",
    "        return noun + 's'\n",
    "\n",
    "\n",
    "def add_article(item_list):\n",
    "    dict = {}\n",
    "    description = \"\"\n",
    "    for key in item_list:\n",
    "        dict[key] = dict.get(key, 0) + 1\n",
    "    lenth = len(dict)\n",
    "    for i in dict.keys():\n",
    "        if dict[i] > 1:\n",
    "            item = pluralize(str(i))\n",
    "        else:\n",
    "            item = str(i)\n",
    "        if lenth == 1:\n",
    "            description += \"and\" + \" \" + str(dict[i]) + \" \" + item + '.'\n",
    "        else:\n",
    "            description += str(dict[i]) + \" \" + item + \", \"  \n",
    "            lenth = lenth - 1\n",
    "    return description\n",
    "\n",
    "def add_a_an(noun):\n",
    "    if noun[0] in ['a', 'e', 'i', 'o', 'u']:\n",
    "        return 'an ' + noun\n",
    "    else:\n",
    "        return 'a ' + noun\n",
    "\n",
    "\n",
    "def replace_word(string, target_word, replacement_sentence):\n",
    "    words = string.split()\n",
    "    for i in range(len(words)):\n",
    "        if words[i] == target_word:\n",
    "            words[i] = replacement_sentence\n",
    "    new_string = \" \".join(words)\n",
    "    return new_string\n",
    "\n",
    "\n",
    "def check_word_from_sentence(sentence, word):\n",
    "    words = sentence.split()\n",
    "    if word in words:\n",
    "        words.remove(word)\n",
    "        new_sentence = \" \".join(words)\n",
    "        return True, new_sentence\n",
    "    else:\n",
    "        return False, sentence\n",
    "\n",
    "\n",
    "def add_article_a_an(item_list):\n",
    "    dict = {}\n",
    "    description = \"\"\n",
    "    for key in item_list:\n",
    "        dict[key] = dict.get(key, 0) + 1\n",
    "    lenth = len(dict)\n",
    "    for i in dict.keys():\n",
    "        if lenth == 1:\n",
    "            description += \"or\" + \" \" + add_a_an(str(i)) + \"?\"\n",
    "        else:\n",
    "            description += add_a_an(str(i)) + \", \"  \n",
    "            lenth = lenth - 1\n",
    "    return description\n",
    "\n",
    "\n",
    "\n",
    "\n",
    "def Make_up_template(trust_candidate, template):\n",
    "    prompt = \"\"\n",
    "    make_up_xxx = []\n",
    "\n",
    "    trust_items = add_article(trust_candidate)\n",
    "    print(trust_items)\n",
    "    temporary = template\n",
    "    new_sentence = replace_word(temporary,\"xxx\",trust_items)\n",
    "    print(new_sentence)\n",
    "    make_up_xxx.append(new_sentence) \n",
    "    return new_sentence"
   ]
  },
  {
   "cell_type": "code",
   "execution_count": 46,
   "id": "b218b823",
   "metadata": {},
   "outputs": [
    {
     "name": "stdout",
     "output_type": "stream",
     "text": [
      "1 bed, 1 carpet, 1 vase, and 1 Bedside cabinet.\n",
      "There is a room, in the room, there is 1 bed, 1 carpet, 1 vase, and 1 Bedside cabinet.\n"
     ]
    }
   ],
   "source": [
    "items = ['bed','carpet','vase','Bedside cabinet']\n",
    "\n",
    "Template = \"There is a room, in the room, there is xxx \\n\"\n",
    "Question = \"What room it could be like?(bedroom, iving room, office place or somthing else)\\\n",
    "            answer with just one word\"\n",
    "\n",
    "template = Make_up_template(items,Template)"
   ]
  },
  {
   "cell_type": "code",
   "execution_count": 36,
   "id": "13a743f5",
   "metadata": {},
   "outputs": [],
   "source": [
    "import openai\n",
    "\n",
    "\n",
    "gpt_version = \"gpt-3.5-turbo\"  \n",
    "\n",
    "openai.api_key = openai_api_key\n",
    "completion = openai.ChatCompletion.create(\n",
    "  model=\"gpt-3.5-turbo\", \n",
    "  messages=[{\"role\": \"user\", \"content\": template+Question}]\n",
    ")"
   ]
  },
  {
   "cell_type": "code",
   "execution_count": 48,
   "id": "e26472dd",
   "metadata": {},
   "outputs": [],
   "source": [
    "completion = openai.ChatCompletion.create(\n",
    "  model=\"gpt-3.5-turbo\", \n",
    "  messages=[{\"role\": \"user\", \"content\": template+Question}],\n",
    "  max_tokens=2, \n",
    "  temperature=0\n",
    ")"
   ]
  },
  {
   "cell_type": "code",
   "execution_count": 50,
   "id": "79b1ce84",
   "metadata": {},
   "outputs": [
    {
     "data": {
      "text/plain": [
       "'Bedroom'"
      ]
     },
     "execution_count": 50,
     "metadata": {},
     "output_type": "execute_result"
    }
   ],
   "source": [
    "completion[\"choices\"][0][\"message\"][\"content\"].strip()  "
   ]
  },
  {
   "cell_type": "code",
   "execution_count": null,
   "id": "56d18c7d",
   "metadata": {},
   "outputs": [],
   "source": []
  }
 ],
 "metadata": {
  "kernelspec": {
   "display_name": "Julia 1.8.2",
   "language": "julia",
   "name": "julia-1.8"
  },
  "language_info": {
   "file_extension": ".jl",
   "mimetype": "application/julia",
   "name": "julia",
   "version": "1.8.2"
  }
 },
 "nbformat": 4,
 "nbformat_minor": 5
}
